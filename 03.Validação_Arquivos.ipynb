{
 "cells": [
  {
   "cell_type": "code",
   "execution_count": null,
   "id": "48a84d47",
   "metadata": {},
   "outputs": [],
   "source": [
    "import os\n",
    "import pandas as pd"
   ]
  },
  {
   "cell_type": "code",
   "execution_count": null,
   "id": "d3fa1035",
   "metadata": {},
   "outputs": [],
   "source": [
    "#01. Diretório 1\n",
    "#Será encontrado o diretório da planilha e filtrado\n",
    "teste = pd.read_excel(r\"C:\\Users\\rodrigo.costa\\Desktop\\Teste.xlsx\", sheet_name=\"Planilha\")\n",
    "teste = teste[['Cabeçalho', 'Cabeçalho2']]\n",
    "\n",
    "display(teste)"
   ]
  },
  {
   "cell_type": "code",
   "execution_count": null,
   "id": "96941cd8",
   "metadata": {},
   "outputs": [],
   "source": [
    "#02. Diretório 2\n",
    "#Será encontrado o diretório da planilha e filtrado\n",
    "teste2 = pd.read_excel(r\"C:\\Users\\rodrigo.costa\\Desktop\\Teste2.xlsx\", sheet_name=\"Planilha\")\n",
    "teste2 = teste2[['Cabeçalho', 'Cabeçalho2']]\n",
    "\n",
    "display(teste2)"
   ]
  },
  {
   "cell_type": "code",
   "execution_count": null,
   "id": "091c87e9",
   "metadata": {},
   "outputs": [],
   "source": [
    "#Junção das duas tabelas em uma usando a concatenação.\n",
    "juncao_tabelas = pd.concat([teste, teste2])\n",
    "juncao_tabelas = juncao_tabelas[~juncao_tabelas['Cabeçalho'].isnull()]\n",
    "\n",
    "display(juncao_tabelas)"
   ]
  },
  {
   "cell_type": "code",
   "execution_count": null,
   "id": "c5f1bfd8",
   "metadata": {},
   "outputs": [],
   "source": [
    "#Validar diretório 1\n",
    "\n",
    "for i, dados in enumerate(juncao_tabelas['Cabeçalho2']):     \n",
    "    if os.path.exists(dados) == False:\n",
    "        print('O caminho de', dados, 'não existe')\n",
    "if os.path.exists(dados) == True:\n",
    "    print('Diretório 1 validado')"
   ]
  },
  {
   "cell_type": "code",
   "execution_count": null,
   "id": "83f002d0",
   "metadata": {},
   "outputs": [],
   "source": [
    "#Validar diretório 2\n",
    "\n",
    "for i, dados in enumerate(juncao_tabelas['Cabeçalho2']):     \n",
    "    if os.path.exists(dados) == False:\n",
    "        print('O caminho de', dados, 'não existe')\n",
    "if os.path.exists(dados) == True:\n",
    "    print('Diretório 2 validado')"
   ]
  }
 ],
 "metadata": {
  "kernelspec": {
   "display_name": "Python 3 (ipykernel)",
   "language": "python",
   "name": "python3"
  },
  "language_info": {
   "codemirror_mode": {
    "name": "ipython",
    "version": 3
   },
   "file_extension": ".py",
   "mimetype": "text/x-python",
   "name": "python",
   "nbconvert_exporter": "python",
   "pygments_lexer": "ipython3",
   "version": "3.9.12"
  }
 },
 "nbformat": 4,
 "nbformat_minor": 5
}
